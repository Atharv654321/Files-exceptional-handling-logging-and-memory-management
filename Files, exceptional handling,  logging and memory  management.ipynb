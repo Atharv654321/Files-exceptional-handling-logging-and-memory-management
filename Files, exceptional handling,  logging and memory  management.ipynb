{
 "cells": [
  {
   "cell_type": "markdown",
   "id": "7af77fb5-9755-4fe7-8726-05f1cdbf8342",
   "metadata": {},
   "source": [
    "1. What is the difference between interpreted and compiled languages?\n",
    "-The main difference between interpreted and compiled languages lies in how their source code is transformed into executable machine code:\n",
    "Compiled Languages:\n",
    "The entire program is translated into machine code by a compiler before execution.\n",
    "This machine code is stored as a separate executable file, which can then be run multiple times without recompilation.\n",
    "Examples: C, C++, Rust, Go.\n",
    "These languages generally offer faster performance, since the translation to machine code happens just once and the result is optimized for the specific hardware.\n",
    "Interpreted Languages:\n",
    "The source code is not translated into machine code in advance. Instead, it is read and executed line by line by an interpreter at runtime.\n",
    "There’s no separate executable file; each run of the program requires the interpreter to process the code.\n",
    "Examples: Python, JavaScript, Ruby.\n",
    "These languages are typically slower compared to compiled languages, as translation and execution happen simultaneously every time the program is run. However, they are more portable and easier to modify rapidly.\n",
    "\n",
    "2. What is exception handling in Python?\n",
    "-Exception handling in Python is a way to gracefully manage errors that occur during the execution of a program. Instead of letting your program crash when an unexpected issue arises (like dividing by zero or trying to access a missing file), Python allows you to \"catch\" exceptions and respond to them, making your code more robust and user-friendly.\n",
    "\n",
    "3. What is the purpose of the finally block in exception handling?\n",
    "-The purpose of the finally block in Python exception handling is to define a section of code that always executes, regardless of whether an exception occurred or not in the preceding try-except blocks. This ensures that critical cleanup or finalization tasks are performed no matter what happens during execution.\n",
    "\n",
    "4. What is logging in Python?\n",
    "-Logging in Python refers to the process of recording events that happen while your program runs, such as errors, warnings, or general information. This is typically done using Python's built-in logging module, which allows you to create log messages with different severity levels and send them to various outputs like the console, files, or even remote servers.\n",
    "\n",
    "5. What is the significance of the __del__ method in Python?\n",
    "-The __del__ method in Python is a special method known as the \"destructor.\" Its main significance is to provide a way for objects to perform clean-up actions just before they are destroyed by Python's garbage collector. When an object's reference count drops to zero—that is, nothing else in the program references it—Python's garbage collector eventually destroys the object and automatically calls its __del__ method if it is defined\n",
    "\n",
    "6. What is the difference between import and from ... import in Python?\n",
    "-The difference between import and from ... import in Python revolves around how you bring external code (modules and their contents) into your program and how you access it:\n",
    "import module:\n",
    "Imports the entire module into your namespace.\n",
    "To use anything from the module, you must prefix it with the module's name.\n",
    "Pros: Keeps your namespace clean and makes code more readable, as it's clear where each function or class comes from.\n",
    "from module import name:\n",
    "Imports only specific objects (functions, classes, variables) from the module directly into your namespace.\n",
    "You do not need to prefix them with the module name.\n",
    "Pros: Saves typing if you use a function or class frequently.\n",
    "Cons: Can cause namespace pollution or name clashes if objects from different modules have the same name.\n",
    "\n",
    "7. How can you handle multiple exceptions in Python?\n",
    "-In Python, you can handle multiple exceptions in two main ways:\n",
    "1] Using a Single except Block for Multiple Exceptions\n",
    "You group the exceptions into a tuple and handle them with the same block of code. This is useful if you want to respond to different exceptions in the same way.\n",
    "2] Using Multiple except Blocks for Different Exceptions\n",
    "If you want to handle different exceptions differently, you can write separate except blocks for each exception type.\n",
    "\n",
    "8. What is the purpose of the with statement when handling files in Python?\n",
    "-The purpose of the with statement when handling files in Python is to simplify and ensure safe and efficient resource management. Specifically, it automatically handles opening and closing the file, so you don't have to explicitly call file.close(). This reduces the risk of resource leaks and makes your code cleaner and easier to read.\n",
    "\n",
    "9. What is the difference between multithreading and multiprocessing?\n",
    "-The difference between multithreading and multiprocessing primarily lies in how tasks are executed and how system resources like CPUs and memory are utilized:\n",
    "Multithreading\n",
    "Concept: Multiple threads are created within a single process.\n",
    "Execution: Threads run concurrently within the same process, sharing the same memory space.\n",
    "Resource Use: More memory-efficient because threads share the process’s resources.\n",
    "Performance: Best suited for I/O-bound tasks (e.g., reading files, network operations) where tasks spend time waiting for external events.\n",
    "Concurrency: Allows concurrency (interleaved execution), but due to Python’s Global Interpreter Lock (GIL), true parallelism is limited in CPU-bound tasks.\n",
    "Creation Time: Thread creation and context switching are relatively quick and economical.\n",
    "Risks: Requires careful management of shared data; prone to synchronization issues and race conditions.\n",
    "Multiprocessing\n",
    "Concept: Multiple processes run independently, usually on multiple CPUs or cores.\n",
    "Execution: Each process has its own memory space and runs in parallel on separate CPUs.\n",
    "Resource Use: Uses more memory because each process maintains its own copy of data and resources.\n",
    "Performance: Ideal for CPU-bound tasks (e.g., heavy computations) since it achieves true parallelism by leveraging multiple cores.\n",
    "Concurrency: Achieves parallelism—multiple processes run simultaneously.\n",
    "Creation Time: Process creation is more time-consuming and resource-intensive compared to threads.\n",
    "Reliability: More stable because processes are isolated; errors in one process do not affect others.  \n",
    " \n",
    "10. What are the advantages of using logging in a program?\n",
    "-The advantages of using logging in a program include:\n",
    "Understanding Application Behavior: Logging helps developers track the flow and behavior of the program, providing visibility into what the application is doing at any given time.\n",
    "Debugging and Troubleshooting: Logs are essential for diagnosing and fixing unexpected issues or errors, especially in production environments where debugging interactively is not possible. They serve as the primary source of information to identify intermittent or complex problems.\n",
    "Real-Time Monitoring and Alerts: Logging enables monitoring of software behavior in real time, helping detect anomalies or failures early and take prompt action.\n",
    "Historical Record: Logs archive events and system activities chronologically, allowing review of past events, trends, and patterns to improve system performance or investigate incidents.\n",
    "Improved Communication: Logs act as a single source of truth for developers, IT, and administrators, fostering transparency and efficient collaboration by providing detailed context on system status and changes.\n",
    "Resource and Performance Management: By analyzing logs, teams can identify bottlenecks, optimize resource usage, and improve overall system stability.\n",
    "Security and Compliance: Logging helps monitor suspicious activities, detect potential security breaches early, and maintain adherence to regulatory requirements.\n",
    "Flexibility with Log Levels and Formatting: Loggers offer different severity levels (e.g., DEBUG, INFO, ERROR) and contextual information (timestamps, user info, file names), which can be filtered and formatted to suit various needs without recompiling the code.\n",
    "Support for Centralized and Scalable Systems: Logging can be integrated into centralized platforms for aggregated analysis, making it easier to manage logs from distributed or cloud-based applications.\n",
    "Automation and Proactive Issue Resolution: Modern log monitoring tools enable automation of responses to certain events, reducing manual labor and helping prevent minor issues from escalating. \n",
    " \n",
    "11. What is memory management in Python?\n",
    "-Memory management in Python refers to the process of efficiently allocating, using, and freeing memory during a program's execution. It involves several key components and mechanisms that work together to handle memory automatically behind the scenes, sparing developers from manual memory handling.\n",
    "\n",
    "12. What are the basic steps involved in exception handling in Python?\n",
    "-The basic steps involved in exception handling in Python follow a structured approach using the try, except, else, and finally blocks.\n",
    "1] Wrap risky code inside a try block\n",
    "Place the code that might cause an error inside a try block.\n",
    "2] Add one or more except blocks to catch errors\n",
    "If an exception occurs in the try block, Python looks for a matching except block to handle it.\n",
    "3] (Optional) Use the else block\n",
    "Runs only if no exception is raised in the try block.\n",
    "Good for code that should execute only when nothing went wrong.\n",
    "4] (Optional) Use the finally block\n",
    "Runs no matter what happens—whether an exception occurred or not.\n",
    "Commonly used to release resources (close files, disconnect from databases, etc.).\n",
    "\n",
    "13. Why is memory management important in Python?\n",
    "-Memory management is important in Python for several key reasons that contribute to the efficient, reliable, and high-performance operation of Python programs:\n",
    "Automatic Memory Handling: Python automatically allocates and deallocates memory for objects your program creates and uses. This automation relieves developers from manually managing memory, reducing complexity and the risk of errors like memory leaks or segmentation faults that are common in lower-level languages.\n",
    "Prevents Memory Leaks: Through reference counting and garbage collection mechanisms, Python detects when objects are no longer needed and frees up their memory. This prevents the program's memory consumption from growing uncontrollably, which otherwise would lead to slowdowns or crashes.\n",
    "Efficient Use of Resources: Proper memory management ensures that Python programs use available memory efficiently. It helps maximize the performance of applications, particularly important when working with large datasets or resource-intensive tasks such as artificial intelligence or machine learning.\n",
    "Stability and Reliability: By managing memory effectively, Python reduces issues such as random crashes, freezes, and corrupted data which can occur if memory is exhausted or not properly freed. This leads to more stable and predictable software behavior, especially in long-running or complex applications.\n",
    "Supports Dynamism: Python's dynamic memory allocation allows programs to allocate memory on the fly as needed during runtime, providing flexibility to handle varying workloads without predefining memory requirements.\n",
    "Improves Performance: Efficient memory management can lead to faster program execution by ensuring memory is allocated and reclaimed optimally. This also frees up resources for caching and other performance enhancements.\n",
    "Facilitates Scalability: In larger or multi-user systems, good memory management helps to ensure that multiple programs or processes can coexist without exhausting system memory.\n",
    "\n",
    "14. What is the role of try and except in exception handling?\n",
    "-In Python’s exception handling, the try and except blocks work together to catch and handle errors that occur during program execution, preventing the program from crashing unexpectedly.\n",
    "Role of try\n",
    "The try block contains code that might raise an exception.\n",
    "Python executes the code inside try line by line.\n",
    "If no exception occurs, the except block is skipped.\n",
    "If an exception occurs, Python immediately jumps out of the try block to the matching except block.\n",
    "Role of except\n",
    "The except block contains code that handles the error.\n",
    "It catches specific or general exception types.\n",
    "If a matching exception type is found, the block executes and the program continues running normally afterward.\n",
    "If not found, the exception propagates upward and may terminate the program.\n",
    "\n",
    "15. How does Python's garbage collection system work?\n",
    "-Python's garbage collection system works as an automated memory management process designed to reclaim memory occupied by objects that are no longer in use by the program. It mainly relies on two complementary techniques:\n",
    "1] Reference Counting\n",
    "Every Python object maintains a reference count representing how many references point to it.\n",
    "When a new reference to an object is created, its count increases.\n",
    "When a reference is deleted or goes out of scope, the count decreases.\n",
    "When the reference count reaches zero, meaning no references to the object remain, the memory is immediately reclaimed by deleting the object.\n",
    "This mechanism is fast and simple but cannot handle reference cycles, where objects reference each other, preventing their counts from reaching zero.\n",
    "2] Generational Garbage Collection (Cycle Detection)\n",
    "To handle cyclic references, Python employs a cyclic garbage collector in the gc module.\n",
    "This collector uses a generational approach, grouping objects by their age in three generations (0, 1, and 2).\n",
    "Younger objects (generation 0) are examined more frequently since they tend to become unreachable faster.\n",
    "The garbage collector periodically runs to identify and collect groups of objects involved in reference cycles that are otherwise unreachable.\n",
    "It uses graph traversal algorithms to mark reachable objects and collects the unmarked, unreachable ones.\n",
    "The frequency of collection is controlled by thresholds related to allocations and deallocations.\n",
    "\n",
    "16. What is the purpose of the else block in exception handling?\n",
    "-In Python exception handling, the else block has a specific and often overlooked purpose — it allows you to run code only if no exception is raised in the try block.\n",
    "Purpose of the else block\n",
    "Runs only when the try block succeeds without raising any exception.\n",
    "Helps keep the \"normal execution\" code separate from the error-handling code inside except blocks.\n",
    "Improves code clarity by distinguishing between code that should run in normal conditions and code that handles exceptional conditions.\n",
    "\n",
    "17. What are the common logging levels in Python?\n",
    "-The common logging levels in Python's built-in logging module are as follows, arranged from the lowest severity to the highest:\n",
    "NOTSET (0): The lowest level, indicating no specific logging level is set. It acts as a placeholder and means that the logger should inherit the level from its parent.\n",
    "DEBUG (10): Detailed information, typically of interest only when diagnosing problems. Used for low-level system information for debugging purposes.\n",
    "INFO (20): Confirmation that things are working as expected. General operational messages that track the progress of the application.\n",
    "WARNING (30): Indications of potential problems or unexpected events that do not currently cause the program to fail, but may lead to issues.\n",
    "ERROR (40): More serious problems that cause parts of the program to fail or malfunction.\n",
    "CRITICAL (50): Very severe errors that may cause the program to abort or stop running entirely.\n",
    "Each level is assigned an integer value, which determines its severity and filtering. When you set a logging level, only messages at that level or higher severity will be processed.\n",
    "\n",
    "18. What is the difference between os.fork() and multiprocessing in Python?\n",
    "-The key difference between os.fork() and the multiprocessing module in Python lies in their level of abstraction, portability, and usage convenience:\n",
    "os.fork()\n",
    "Low-level system call available only on Unix-like operating systems (Linux, macOS).\n",
    "Operation: Directly duplicates the current process, creating a child process that is a copy of the parent, including memory and execution state at the moment of the fork.\n",
    "After forking, both processes continue execution independently.\n",
    "Because it clones the entire process memory, changes made before the fork are inherited by the child.\n",
    "Offers finer control but requires careful management of resources and process logic.\n",
    "Not supported on Windows, limiting portability.\n",
    "Using os.fork() in complex, multithreaded programs can lead to issues, as it copies the exact state including threads, which may produce unpredictable behavior.\n",
    "multiprocessing Module\n",
    "High-level Python API for creating and managing processes, built on top of lower-level system calls like os.fork (on Unix).\n",
    "Provides a portable, cross-platform interface (works on Windows, Linux, macOS).\n",
    "Supports different start methods (fork, spawn, forkserver) depending on the operating system and user configuration:\n",
    "fork copies the parent process (Unix-only).\n",
    "spawn starts a fresh Python interpreter process (default on Windows and macOS).\n",
    "Includes convenient features like process synchronization, communication primitives (pipes, queues), shared memory objects, and process pools.\n",
    "Shields users from many low-level details, making parallel programming easier, safer, and more robust.\n",
    "The child process started by multiprocessing is independent of the parent after creation; changes in one do not affect the other. \n",
    " \n",
    "19. What is the importance of closing a file in Python?\n",
    "-Importance of Closing a File in Python\n",
    "Releases System Resources:\n",
    "Files are limited system resources managed by the operating system. When a file is opened, it consumes resources such as file handles. If files are not closed after use, these resources remain tied up, potentially leading to resource exhaustion and limiting the program or system's ability to open new files or perform file-related operations.\n",
    "Ensures Data Integrity (Flushes Buffers):\n",
    "When writing to a file, Python often uses buffering — data is stored temporarily in memory before being physically written to disk. Closing the file forces the buffer to flush, ensuring all written data is actually saved to the file. If a file is not properly closed, some data may remain in the buffer and never be written, resulting in data loss or corruption.\n",
    "Prevents File Locks and Conflicts:\n",
    "Some operating systems lock files when they are open to prevent other processes from modifying them simultaneously. Closing the file releases these locks, allowing other programs or scripts to access the file without conflicts.\n",
    "Avoids Errors and Unexpected Behavior:\n",
    "If too many files are left open, the program might encounter errors such as \"too many open files\" due to OS limits. Also, leaving a file open can cause issues like inconsistent reads/writes or crashes.\n",
    "Good Programming Practice:\n",
    "Explicitly closing files is considered clean, robust, and maintainable coding practice. It reduces the chance of subtle bugs and facilitates debugging and program stability.\n",
    "\n",
    "20. What is the difference between file.read() and file.readline() in Python?\n",
    "-The difference between file.read() and file.readline() in Python lies in how much and what part of the file they read:\n",
    "file.read()\n",
    "Reads the entire contents of the file (or a specified number of bytes if an argument is given) and returns it as a single string.\n",
    "Useful when you want to process or analyze the whole file content at once.\n",
    "Can consume a lot of memory if the file is large since it loads everything into memory.\n",
    "file.readline()\n",
    "Reads one line at a time from the file and returns it as a string (including the newline character at the end).\n",
    "When called repeatedly, it continues to read the next line until reaching the end of the file, where it returns an empty string.\n",
    "Useful for processing files line-by-line, especially when dealing with large files or when you want to apply logic to each line separately.\n",
    "More memory-efficient for large files compared to read().\n",
    "\n",
    "21. What is the logging module in Python used for?\n",
    "-The logging module in Python is used for recording events that occur during the execution of a program, providing a systematic way to track and store messages about the program’s operation. It helps developers and system administrators monitor the flow of an application, capture warnings and errors, and debug or troubleshoot issues effectively.\n",
    "\n",
    "22. What is the os module in Python used for in file handling?\n",
    "-The Python os module is used in file handling to provide a set of functions for interacting with the operating system in a portable way. It allows you to perform file and directory operations beyond the basic file reading/writing capabilities of Python's built-in open() function. Here's what the os module is commonly used for in file handling:\n",
    "Key Uses of the os Module in File Handling\n",
    "File and Directory Management:\n",
    "Create directories (os.mkdir(), os.makedirs())\n",
    "Remove files (os.remove())\n",
    "Remove empty directories (os.rmdir())\n",
    "Rename files or directories (os.rename())\n",
    "Change the current working directory (os.chdir())\n",
    "Get the current working directory (os.getcwd())\n",
    "File Path Operations:\n",
    "Combine paths (os.path.join())\n",
    "Check if a file or directory exists (os.path.exists(), os.path.isfile(), os.path.isdir())\n",
    "Get file size, permissions, or metadata (os.path.getsize(), os.stat())\n",
    "File Permission Handling:\n",
    "Change file or directory permissions (os.chmod())\n",
    "Low-level File Operations (File Descriptors):\n",
    "Open files returning a file descriptor (os.open()) for low-level I/O\n",
    "Read (os.read()) and write (os.write()) bytes using file descriptors\n",
    "Close the file descriptor (os.close())\n",
    "\n",
    "23. What are the challenges associated with memory management in Python?\n",
    "-The challenges associated with memory management in Python stem from both the language's automatic memory handling approach and the inherent complexities of managing dynamic objects and resources efficiently. Some of the main challenges include:\n",
    "1] Handling Reference Cycles\n",
    "Python primarily uses reference counting to manage memory, but reference counting cannot detect reference cycles (where objects reference each other, preventing their reference counts from dropping to zero).\n",
    "Although Python’s cyclic garbage collector handles these cycles, managing them efficiently without causing performance hits can be challenging.\n",
    "Circular references can lead to memory leaks if not collected properly.\n",
    "2] Unintentional Memory Leaks\n",
    "Certain programming patterns or bugs can cause objects to be unintentionally retained in memory, like lingering references in global or container objects.\n",
    "Objects involved in complex reference cycles or those holding resources such as file handles or network connections might not be freed as expected.\n",
    "This can progressively increase the memory footprint of long-running programs.\n",
    "3] Memory Fragmentation\n",
    "Python allocates memory dynamically and may reuse freed memory internally. However, with many allocations and deallocations over time, memory may become fragmented.\n",
    "Fragmentation can reduce efficient use of memory and impact program performance, especially for large or long-running applications.\n",
    "4] Overhead of Garbage Collection\n",
    "Garbage collection incurs runtime overhead because Python periodically scans objects to identify and free unreachable memory.\n",
    "Managing the balance between frequent garbage collection (more CPU overhead) and infrequent collection (more memory usage) can be tricky.\n",
    "In some performance-critical applications, the pauses caused by garbage collection can affect responsiveness.\n",
    "5] Limited Manual Control\n",
    "Python’s memory management is mostly automatic, which generally simplifies development, but offers limited opportunities for manual tuning.\n",
    "Unlike lower-level languages, developers have less control over when and how memory is allocated or freed.\n",
    "This can sometimes make it harder to optimize for specialized memory usage patterns or large-scale applications.\n",
    "6] Large Object Handling and Caching\n",
    "Python’s interpreter may cache or hold onto memory for frequently used small objects or interned strings, causing memory usage to remain high even after the program no longer explicitly references those objects.\n",
    "Managing this internal caching behavior can be challenging, especially when working with large datasets.\n",
    "7] Debugging and Profiling Difficulties\n",
    "Diagnosing memory usage problems, leaks, or fragmentation can be complex.\n",
    "It often requires specialized tools, such as memory profilers, tracemalloc, or third-party debugging libraries, to track down issues.\n",
    "\n",
    "24. How do you raise an exception manually in Python?\n",
    "-In Python, you can manually raise an exception using the raise statement:\n",
    "    -raise ExceptionType(\"Error message\") \n",
    "\n",
    "25. Why is it important to use multithreading in certain applications?\n",
    "-Using multithreading in certain applications is important because it offers several key advantages:\n",
    "Improved Performance: Multithreading allows multiple tasks to run concurrently, making better use of CPU and system resources, especially in tasks that involve waiting for I/O operations (like reading files, network communications). This leads to faster overall execution and improved throughput.\n",
    "Better Responsiveness: In applications with user interfaces or servers handling multiple client requests, multithreading keeps the program responsive by allowing background tasks to run without blocking the main thread. For example, a GUI can remain interactive while processing happens in separate threads.\n",
    "Scalability: Multithreading enables applications to efficiently handle many simultaneous tasks or user requests, scaling well as workload increases, such as in web servers or database query processing.\n",
    "Reduced Latency: By running multiple threads together, programs can reduce the time it takes to respond to events or user actions, which is critical in real-time or interactive applications.\n",
    "Resource Sharing: Threads share the same memory space within a process, allowing easy communication and sharing of data without overhead of inter-process communication.\n",
    "Real-time Processing: Multithreading supports scenarios that demand prompt execution of concurrent tasks, like audio/video rendering, robotics sensor input handling, or game simulations. "
   ]
  },
  {
   "cell_type": "markdown",
   "id": "937c6e64-f2e9-4196-bc94-0580e4789721",
   "metadata": {},
   "source": [
    "# 1. How can you open a file for writing in Python and write a string to it?\n",
    "\n"
   ]
  },
  {
   "cell_type": "code",
   "execution_count": 3,
   "id": "9f2fe34c-90d1-40ec-8e42-9b7950ff944e",
   "metadata": {},
   "outputs": [],
   "source": [
    "file = open(\"example.txt\", \"w\")\n",
    "\n",
    "file.write(\"Hello, Python!\")\n",
    "\n",
    "file.close()"
   ]
  },
  {
   "cell_type": "markdown",
   "id": "f4389f65-9616-498c-9cfa-78b1c677e1f4",
   "metadata": {},
   "source": [
    "# 2. Write a Python program to read the contents of a file and print each line.\n"
   ]
  },
  {
   "cell_type": "code",
   "execution_count": 8,
   "id": "81b9d9ca-619d-4d4f-99a0-05f20b963d3b",
   "metadata": {},
   "outputs": [
    {
     "name": "stdout",
     "output_type": "stream",
     "text": [
      "Hello, Python!\n"
     ]
    }
   ],
   "source": [
    "with open(\"example.txt\", \"r\") as file:\n",
    "    for line in file:\n",
    "        print(line.strip())"
   ]
  },
  {
   "cell_type": "markdown",
   "id": "e963237e-70ec-400f-aff3-9dc8597607e8",
   "metadata": {},
   "source": [
    "# 3. How would you handle a case where the file doesn't exist while trying to open it for reading?\n"
   ]
  },
  {
   "cell_type": "code",
   "execution_count": 21,
   "id": "9000fb79-0930-4b09-a249-df068058e6a8",
   "metadata": {},
   "outputs": [],
   "source": [
    "filename = \"example.txt\"\n",
    "\n",
    "try:\n",
    "    with open(filename, \"r\") as file:\n",
    "        for line in file:\n",
    "            print(line.strip())\n",
    "except FileNotFoundError:\n",
    "    print(f\"Error: The file '{filename}' was not found.\")"
   ]
  },
  {
   "cell_type": "markdown",
   "id": "56a9a173-eaa4-4dfe-bce1-8cd78264a9fb",
   "metadata": {},
   "source": [
    "# 4. Write a Python script that reads from one file and writes its content to another file.\n"
   ]
  },
  {
   "cell_type": "code",
   "execution_count": null,
   "id": "3ec3bddb-9d5d-443d-9ccb-23e27775422d",
   "metadata": {},
   "outputs": [],
   "source": [
    "source_file = \"source.txt\"\n",
    "destination_file = \"destination.txt\"\n",
    "\n",
    "try:\n",
    "    with open(source_file, \"r\") as src, open(destination_file, \"w\") as dest:\n",
    "        content = src.read()\n",
    "        dest.write(content)    \n",
    "    print(f\"Contents of '{source_file}' have been copied to '{destination_file}'.\")\n",
    "except FileNotFoundError:\n",
    "    print(f\"Error: The file '{source_file}' was not found.\")\n",
    "except Exception as e:\n",
    "    print(f\"An error occurred: {e}\")"
   ]
  },
  {
   "cell_type": "markdown",
   "id": "ea15f14a-775d-4c47-936a-6923c1aaa4c9",
   "metadata": {},
   "source": [
    "# 5. How would you catch and handle division by zero error in Python?"
   ]
  },
  {
   "cell_type": "code",
   "execution_count": 27,
   "id": "67b624f8-9909-475a-bd2e-cc8d0a30c7e3",
   "metadata": {},
   "outputs": [
    {
     "name": "stdin",
     "output_type": "stream",
     "text": [
      "Enter a number:  0\n"
     ]
    },
    {
     "name": "stdout",
     "output_type": "stream",
     "text": [
      "Error: You cannot divide by zero.\n"
     ]
    }
   ],
   "source": [
    "try:\n",
    "    num = int(input(\"Enter a number: \"))\n",
    "    result = 10 / num\n",
    "    print(\"Result:\", result)\n",
    "except ZeroDivisionError:\n",
    "    print(\"Error: You cannot divide by zero.\")"
   ]
  },
  {
   "cell_type": "markdown",
   "id": "2bbc1018-e317-454d-bb1e-fc45632d3351",
   "metadata": {},
   "source": [
    "# 6. Write a Python program that logs an error message to a log file when a division by zero exception occurs."
   ]
  },
  {
   "cell_type": "code",
   "execution_count": 30,
   "id": "128532f2-22e1-4fed-b1d2-4bd85f2446dd",
   "metadata": {},
   "outputs": [
    {
     "name": "stdin",
     "output_type": "stream",
     "text": [
      "Enter a number:  0\n"
     ]
    },
    {
     "name": "stdout",
     "output_type": "stream",
     "text": [
      "Error: You cannot divide by zero. Check 'app.log' for details.\n"
     ]
    }
   ],
   "source": [
    "import logging\n",
    "\n",
    "logging.basicConfig(\n",
    "    filename=\"app.log\",\n",
    "    level=logging.ERROR,     \n",
    "    format=\"%(asctime)s - %(levelname)s - %(message)s\"\n",
    ")\n",
    "try:\n",
    "    num = int(input(\"Enter a number: \"))\n",
    "    result = 10 / num\n",
    "    print(\"Result:\", result)\n",
    "except ZeroDivisionError:\n",
    "    logging.error(\"Division by zero error occurred.\")\n",
    "    print(\"Error: You cannot divide by zero. Check 'app.log' for details.\")\n"
   ]
  },
  {
   "cell_type": "markdown",
   "id": "aad525ed-7e23-4d39-a9a6-82d9261611ef",
   "metadata": {},
   "source": [
    "# 7. How do you log information at different levels (INFO, ERROR, WARNING) in Python using the logging module?\n"
   ]
  },
  {
   "cell_type": "code",
   "execution_count": 33,
   "id": "1cb56ae3-b423-404b-ae89-9e6e7eb6cb05",
   "metadata": {},
   "outputs": [],
   "source": [
    "import logging\n",
    "logging.basicConfig(\n",
    "    filename='app.log',          \n",
    "    level=logging.DEBUG,         \n",
    "    format='%(asctime)s - %(levelname)s - %(message)s'\n",
    ")\n",
    "logging.info(\"This is an INFO message - general information\")\n",
    "logging.warning(\"This is a WARNING message - something unexpected happened\")\n",
    "logging.error(\"This is an ERROR message - a serious problem occurred\")"
   ]
  },
  {
   "cell_type": "markdown",
   "id": "526af5e1-07c9-4f22-bab3-279e912e1301",
   "metadata": {},
   "source": [
    "# 8. Write a program to handle a file opening error using exception handling."
   ]
  },
  {
   "cell_type": "code",
   "execution_count": 36,
   "id": "467f0ce1-5b92-4fbd-b466-748e1371885f",
   "metadata": {},
   "outputs": [
    {
     "name": "stdout",
     "output_type": "stream",
     "text": [
      "Error: The file 'myfile.txt' was not found.\n"
     ]
    }
   ],
   "source": [
    "filename = \"myfile.txt\"\n",
    "\n",
    "try:\n",
    "    with open(filename, \"r\") as file:\n",
    "        content = file.read()\n",
    "        print(content)\n",
    "except FileNotFoundError:\n",
    "    print(f\"Error: The file '{filename}' was not found.\")\n",
    "except PermissionError:\n",
    "    print(f\"Error: You do not have permission to open '{filename}'.\")\n",
    "except Exception as e:\n",
    "    print(f\"An unexpected error occurred: {e}\")"
   ]
  },
  {
   "cell_type": "markdown",
   "id": "8b2415d8-6c1c-418e-9dda-561cc8d6b004",
   "metadata": {},
   "source": [
    "# 9. How can you read a file line by line and store its content in a list in Python?"
   ]
  },
  {
   "cell_type": "code",
   "execution_count": 39,
   "id": "3f1d7502-9461-4ff3-8111-0e51a4e41e77",
   "metadata": {},
   "outputs": [
    {
     "name": "stdout",
     "output_type": "stream",
     "text": [
      "[]\n"
     ]
    }
   ],
   "source": [
    "with open(\"example.txt\", \"r\") as file:\n",
    "    lines = file.readlines()\n",
    "\n",
    "print(lines)"
   ]
  },
  {
   "cell_type": "markdown",
   "id": "5dd3ddfa-5cff-401d-882a-80697ec6aa05",
   "metadata": {},
   "source": [
    "# 10. How can you append data to an existing file in Python?"
   ]
  },
  {
   "cell_type": "code",
   "execution_count": 42,
   "id": "b0c06675-e75f-4c72-b589-336f4ef87bd9",
   "metadata": {},
   "outputs": [],
   "source": [
    "with open(\"example.txt\", \"a\") as file:\n",
    "    file.write(\"\\nThis is new appended data.\")"
   ]
  },
  {
   "cell_type": "markdown",
   "id": "0b8358ab-fac0-43de-9a31-719f592c91a8",
   "metadata": {},
   "source": [
    "# 11. Write a Python program that uses a try-except block to handle an error when attempting to access a dictionary key that doesn't exist."
   ]
  },
  {
   "cell_type": "code",
   "execution_count": 45,
   "id": "3e21af03-acda-48c7-894b-295219efe29c",
   "metadata": {},
   "outputs": [
    {
     "name": "stdout",
     "output_type": "stream",
     "text": [
      "Error: The key 'country' does not exist in the dictionary.\n"
     ]
    }
   ],
   "source": [
    "my_dict = {\n",
    "    \"name\": \"Alice\",\n",
    "    \"age\": 25,\n",
    "    \"city\": \"New York\"\n",
    "}\n",
    "key_to_access = \"country\" \n",
    "try:\n",
    "    value = my_dict[key_to_access]\n",
    "    print(f\"The value for '{key_to_access}' is {value}\")\n",
    "except KeyError:\n",
    "    print(f\"Error: The key '{key_to_access}' does not exist in the dictionary.\")"
   ]
  },
  {
   "cell_type": "markdown",
   "id": "ab4accce-e268-4247-815f-2ac26087e07b",
   "metadata": {},
   "source": [
    "# 12. Write a program that demonstrates using multiple except blocks to handle different types of exceptions."
   ]
  },
  {
   "cell_type": "code",
   "execution_count": 48,
   "id": "d26b3461-869a-4fd7-bea2-576bc4b66788",
   "metadata": {},
   "outputs": [
    {
     "name": "stdin",
     "output_type": "stream",
     "text": [
      "Enter a number:  0\n"
     ]
    },
    {
     "name": "stdout",
     "output_type": "stream",
     "text": [
      "Error: Division by zero is not allowed.\n",
      "Program execution completed.\n"
     ]
    }
   ],
   "source": [
    "try:\n",
    "    num = int(input(\"Enter a number: \"))   \n",
    "    result = 10 / num\n",
    "    print(f\"Result: {result}\")\n",
    "\n",
    "    my_list = [1, 2, 3]\n",
    "    print(my_list[5])  \n",
    "\n",
    "except ValueError:\n",
    "    print(\"Error: Invalid input! Please enter a valid integer.\")\n",
    "\n",
    "except ZeroDivisionError:\n",
    "    print(\"Error: Division by zero is not allowed.\")\n",
    "\n",
    "except IndexError:\n",
    "    print(\"Error: List index out of range.\")\n",
    "\n",
    "except Exception as e: \n",
    "    print(f\"An unexpected error occurred: {e}\")\n",
    "\n",
    "finally:\n",
    "    print(\"Program execution completed.\")"
   ]
  },
  {
   "cell_type": "markdown",
   "id": "3ca00a5e-182c-4948-b01b-e30392089b91",
   "metadata": {},
   "source": [
    "# 13. How would you check if a file exists before attempting to read it in Python?"
   ]
  },
  {
   "cell_type": "code",
   "execution_count": 51,
   "id": "8add502a-1830-40e4-90a0-fad04b0f9572",
   "metadata": {},
   "outputs": [
    {
     "name": "stdout",
     "output_type": "stream",
     "text": [
      "\n",
      "This is new appended data.\n"
     ]
    }
   ],
   "source": [
    "import os\n",
    "filename = \"example.txt\"\n",
    "if os.path.isfile(filename):  \n",
    "    with open(filename, \"r\") as file:\n",
    "        content = file.read()\n",
    "        print(content)\n",
    "else:\n",
    "    print(f\"File '{filename}' does not exist.\")"
   ]
  },
  {
   "cell_type": "markdown",
   "id": "b1801b77-2fb2-427c-ab99-8eb43edf0768",
   "metadata": {},
   "source": [
    "# 14. Write a program that uses the logging module to log both informational and error messages."
   ]
  },
  {
   "cell_type": "code",
   "execution_count": null,
   "id": "4216eba0-eff5-454e-bd8f-f9b7f394b946",
   "metadata": {},
   "outputs": [],
   "source": [
    "import logging\n",
    "\n",
    "logging.basicConfig(\n",
    "    filename=\"app.log\",            \n",
    "    level=logging.DEBUG,          \n",
    "    format=\"%(asctime)s - %(levelname)s - %(message)s\"\n",
    ")\n",
    "\n",
    "logging.info(\"Program started successfully.\")\n",
    "\n",
    "try:\n",
    "    num = int(input(\"Enter a number: \"))\n",
    "    result = 10 / num\n",
    "    logging.info(f\"Division successful. Result: {result}\")\n",
    "except ZeroDivisionError:\n",
    "    logging.error(\"Division by zero error occurred.\")\n",
    "except ValueError:\n",
    "    logging.error(\"Invalid input. Could not convert to an integer.\")\n",
    "\n",
    "logging.info(\"Program ended.\")"
   ]
  },
  {
   "cell_type": "markdown",
   "id": "ec9b8bc5-8b19-450a-8fa8-e58a7895039b",
   "metadata": {},
   "source": [
    "# 15. Write a Python program that prints the content of a file and handles the case when the file is empty."
   ]
  },
  {
   "cell_type": "code",
   "execution_count": 61,
   "id": "55fc5d64-4135-433f-b49d-c0a9be4a4122",
   "metadata": {},
   "outputs": [
    {
     "name": "stdout",
     "output_type": "stream",
     "text": [
      "File content:\n",
      "\n",
      "This is new appended data.\n"
     ]
    }
   ],
   "source": [
    "filename = \"example.txt\"\n",
    "\n",
    "try:\n",
    "    with open(filename, \"r\") as file:\n",
    "        content = file.read()\n",
    "\n",
    "        if content.strip() == \"\":\n",
    "            print(f\"The file '{filename}' is empty.\")\n",
    "        else:\n",
    "            print(\"File content:\")\n",
    "            print(content)\n",
    "\n",
    "except FileNotFoundError:\n",
    "    print(f\"Error: The file '{filename}' was not found.\")\n",
    "except PermissionError:\n",
    "    print(f\"Error: You do not have permission to read '{filename}'.\")\n",
    "except Exception as e:\n",
    "    print(f\"An unexpected error occurred: {e}\")"
   ]
  },
  {
   "cell_type": "markdown",
   "id": "0a51a7fd-1a89-44c8-9263-0a705e5a091f",
   "metadata": {},
   "source": [
    "# 16. Demonstrate how to use memory profiling to check the memory usage of a small program."
   ]
  },
  {
   "cell_type": "code",
   "execution_count": null,
   "id": "775969b1-0a52-4a34-bcdf-60672bcb5235",
   "metadata": {},
   "outputs": [],
   "source": [
    "from memory_profiler import profile\n",
    "\n",
    "@profile\n",
    "def my_function():\n",
    "    a = [1] * (10**6)\n",
    "    b = [2] * (2 * 10**7)\n",
    "    del b\n",
    "    return a\n",
    "\n",
    "if __name__ == '__main__':\n",
    "    my_function()"
   ]
  },
  {
   "cell_type": "markdown",
   "id": "05b557b5-7f35-4faf-b71d-aefdc1a84314",
   "metadata": {},
   "source": [
    "# 17. Write a Python program to create and write a list of numbers to a file, one number per line."
   ]
  },
  {
   "cell_type": "code",
   "execution_count": 71,
   "id": "64f65c63-796a-44cf-8ea4-abbd1c648295",
   "metadata": {},
   "outputs": [
    {
     "name": "stdout",
     "output_type": "stream",
     "text": [
      "Numbers have been written to 'numbers.txt' successfully.\n"
     ]
    }
   ],
   "source": [
    "numbers = [10, 20, 30, 40, 50]\n",
    "\n",
    "filename = \"numbers.txt\"\n",
    "\n",
    "try:\n",
    "    with open(filename, \"w\") as file:\n",
    "        for num in numbers:\n",
    "            file.write(f\"{num}\\n\")  \n",
    "\n",
    "    print(f\"Numbers have been written to '{filename}' successfully.\")\n",
    "\n",
    "except Exception as e:\n",
    "    print(f\"An error occurred: {e}\")"
   ]
  },
  {
   "cell_type": "markdown",
   "id": "e81acafc-f55a-47e4-9036-48c801da89ab",
   "metadata": {},
   "source": [
    "# 18. How would you implement a basic logging setup that logs to a file with rotation after 1MB?"
   ]
  },
  {
   "cell_type": "code",
   "execution_count": null,
   "id": "ba9bd8d8-bdc7-4cf1-93a8-c1f3a60bfe9f",
   "metadata": {},
   "outputs": [],
   "source": [
    "import logging\n",
    "from logging.handlers import RotatingFileHandler\n",
    "\n",
    "logger = logging.getLogger()\n",
    "logger.setLevel(logging.DEBUG)\n",
    "\n",
    "handler = RotatingFileHandler(\"app.log\", maxBytes=1_000_000, backupCount=5)\n",
    "handler.setFormatter(logging.Formatter('%(asctime)s - %(levelname)s - %(message)s'))\n",
    "\n",
    "logger.addHandler(handler)\n",
    "\n",
    "logger.info(\"Logging started\")"
   ]
  },
  {
   "cell_type": "markdown",
   "id": "27bbb193-a1bc-4731-86d4-65cabea05a90",
   "metadata": {},
   "source": [
    "# 19. Write a program that handles both IndexError and KeyError using a try-except block."
   ]
  },
  {
   "cell_type": "code",
   "execution_count": 80,
   "id": "061de52c-92fb-4342-adb1-4df73243085d",
   "metadata": {},
   "outputs": [
    {
     "name": "stdout",
     "output_type": "stream",
     "text": [
      "Error: List index is out of range.\n",
      "Program execution completed.\n"
     ]
    }
   ],
   "source": [
    "my_list = [1, 2, 3]\n",
    "my_dict = {\"name\": \"Alice\", \"age\": 25}\n",
    "\n",
    "try:\n",
    "    print(\"List value:\", my_list[5])\n",
    "    print(\"Dictionary value:\", my_dict[\"city\"])\n",
    "\n",
    "except IndexError:\n",
    "    print(\"Error: List index is out of range.\")\n",
    "\n",
    "except KeyError:\n",
    "    print(\"Error: The specified key does not exist in the dictionary.\")\n",
    "\n",
    "except Exception as e: \n",
    "    print(f\"An unexpected error occurred: {e}\")\n",
    "\n",
    "finally:\n",
    "    print(\"Program execution completed.\")"
   ]
  },
  {
   "cell_type": "markdown",
   "id": "ea69e8e6-8285-4bd1-8145-9412aefbdaa5",
   "metadata": {},
   "source": [
    "# 20. How would you open a file and read its contents using a context manager in Python?"
   ]
  },
  {
   "cell_type": "code",
   "execution_count": 83,
   "id": "5640309c-b93d-4833-bd6b-1aa66adbf199",
   "metadata": {},
   "outputs": [
    {
     "name": "stdout",
     "output_type": "stream",
     "text": [
      "\n",
      "This is new appended data.\n"
     ]
    }
   ],
   "source": [
    "with open(\"example.txt\", \"r\") as file:\n",
    "    content = file.read()  \n",
    "    print(content)"
   ]
  },
  {
   "cell_type": "markdown",
   "id": "5a4309ff-1d0a-4c86-87cf-4e993400ab99",
   "metadata": {},
   "source": [
    "# 21. Write a Python program that reads a file and prints the number of occurrences of a specific word."
   ]
  },
  {
   "cell_type": "code",
   "execution_count": 86,
   "id": "d862c4ea-afda-427d-ba82-543dc8cb11bf",
   "metadata": {},
   "outputs": [
    {
     "name": "stdout",
     "output_type": "stream",
     "text": [
      "The word 'Python' occurs 0 times in 'example.txt'.\n"
     ]
    }
   ],
   "source": [
    "filename = \"example.txt\"\n",
    "search_word = \"Python\"\n",
    "\n",
    "try:\n",
    "    with open(filename, \"r\") as file:\n",
    "        content = file.read().lower()  \n",
    "        count = content.split().count(search_word.lower())\n",
    "        print(f\"The word '{search_word}' occurs {count} times in '{filename}'.\")\n",
    "except FileNotFoundError:\n",
    "    print(f\"Error: The file '{filename}' was not found.\")\n",
    "except Exception as e:\n",
    "    print(f\"An unexpected error occurred: {e}\")"
   ]
  },
  {
   "cell_type": "markdown",
   "id": "ce3e152e-08c7-4f61-a1ee-86db39574dfd",
   "metadata": {},
   "source": [
    "# 22. How can you check if a file is empty before attempting to read its contents?"
   ]
  },
  {
   "cell_type": "code",
   "execution_count": 89,
   "id": "0b3271ae-3c56-4ae6-bb26-755c3b53d981",
   "metadata": {},
   "outputs": [
    {
     "name": "stdout",
     "output_type": "stream",
     "text": [
      "\n",
      "This is new appended data.\n"
     ]
    }
   ],
   "source": [
    "import os\n",
    "\n",
    "filename = \"example.txt\"\n",
    "\n",
    "if os.path.getsize(filename) == 0:\n",
    "    print(f\"The file '{filename}' is empty.\")\n",
    "else:\n",
    "    with open(filename, \"r\") as file:\n",
    "        print(file.read())"
   ]
  },
  {
   "cell_type": "markdown",
   "id": "a0b324cc-8aff-46ee-b4e8-50a100f412b5",
   "metadata": {},
   "source": [
    "# 23. Write a Python program that writes to a log file when an error occurs during file handling."
   ]
  },
  {
   "cell_type": "code",
   "execution_count": null,
   "id": "62deb3d4-5cd3-40c2-9c4b-ab897bbdfeab",
   "metadata": {},
   "outputs": [],
   "source": [
    "import logging\n",
    "\n",
    "logging.basicConfig(\n",
    "    filename=\"error.log\",          \n",
    "    level=logging.ERROR,          \n",
    "    format=\"%(asctime)s - %(levelname)s - %(message)s\"\n",
    ")\n",
    "\n",
    "filename = \"myfile.txt\" \n",
    "try:\n",
    "    with open(filename, \"r\") as file:\n",
    "        content = file.read()\n",
    "        print(content)\n",
    "\n",
    "except FileNotFoundError as e:\n",
    "    logging.error(f\"File not found: {filename} - {e}\")\n",
    "    print(f\"Error: The file '{filename}' was not found.\")\n",
    "\n",
    "except PermissionError as e:\n",
    "    logging.error(f\"Permission denied for file: {filename} - {e}\")\n",
    "    print(f\"Error: No permission to open '{filename}'.\")\n",
    "\n",
    "except Exception as e:\n",
    "    logging.error(f\"Unexpected error while handling {filename}: {e}\")\n",
    "    print(\"An unexpected error occurred. Check logs for details.\")"
   ]
  }
 ],
 "metadata": {
  "kernelspec": {
   "display_name": "Python 3 (ipykernel)",
   "language": "python",
   "name": "python3"
  },
  "language_info": {
   "codemirror_mode": {
    "name": "ipython",
    "version": 3
   },
   "file_extension": ".py",
   "mimetype": "text/x-python",
   "name": "python",
   "nbconvert_exporter": "python",
   "pygments_lexer": "ipython3",
   "version": "3.12.7"
  }
 },
 "nbformat": 4,
 "nbformat_minor": 5
}
